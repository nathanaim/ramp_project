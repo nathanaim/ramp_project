{
 "cells": [
  {
   "cell_type": "code",
   "execution_count": 141,
   "metadata": {},
   "outputs": [],
   "source": [
    "import pandas as pd\n",
    "from datetime import datetime, date"
   ]
  },
  {
   "cell_type": "code",
   "execution_count": 60,
   "metadata": {},
   "outputs": [],
   "source": [
    "df = pd.read_csv('external_data_new.csv')"
   ]
  },
  {
   "cell_type": "code",
   "execution_count": 85,
   "metadata": {},
   "outputs": [],
   "source": [
    "covid_data = pd.read_csv('sp-pe-tb-quot-fra-2021-12-06-19h05.csv', sep=\";\")"
   ]
  },
  {
   "cell_type": "code",
   "execution_count": 86,
   "metadata": {},
   "outputs": [
    {
     "data": {
      "text/html": [
       "<div>\n",
       "<style scoped>\n",
       "    .dataframe tbody tr th:only-of-type {\n",
       "        vertical-align: middle;\n",
       "    }\n",
       "\n",
       "    .dataframe tbody tr th {\n",
       "        vertical-align: top;\n",
       "    }\n",
       "\n",
       "    .dataframe thead th {\n",
       "        text-align: right;\n",
       "    }\n",
       "</style>\n",
       "<table border=\"1\" class=\"dataframe\">\n",
       "  <thead>\n",
       "    <tr style=\"text-align: right;\">\n",
       "      <th></th>\n",
       "      <th>fra</th>\n",
       "      <th>jour</th>\n",
       "      <th>P_f</th>\n",
       "      <th>P_h</th>\n",
       "      <th>P</th>\n",
       "      <th>pop_f</th>\n",
       "      <th>pop_h</th>\n",
       "      <th>cl_age90</th>\n",
       "      <th>pop</th>\n",
       "    </tr>\n",
       "  </thead>\n",
       "  <tbody>\n",
       "    <tr>\n",
       "      <th>0</th>\n",
       "      <td>FR</td>\n",
       "      <td>2020-05-13</td>\n",
       "      <td>7</td>\n",
       "      <td>6</td>\n",
       "      <td>13</td>\n",
       "      <td>3.802090e+06</td>\n",
       "      <td>3.961116e+06</td>\n",
       "      <td>9</td>\n",
       "      <td>7.763206e+06</td>\n",
       "    </tr>\n",
       "    <tr>\n",
       "      <th>1</th>\n",
       "      <td>FR</td>\n",
       "      <td>2020-05-13</td>\n",
       "      <td>21</td>\n",
       "      <td>7</td>\n",
       "      <td>28</td>\n",
       "      <td>4.066327e+06</td>\n",
       "      <td>4.270159e+06</td>\n",
       "      <td>19</td>\n",
       "      <td>8.336486e+06</td>\n",
       "    </tr>\n",
       "    <tr>\n",
       "      <th>2</th>\n",
       "      <td>FR</td>\n",
       "      <td>2020-05-13</td>\n",
       "      <td>64</td>\n",
       "      <td>41</td>\n",
       "      <td>105</td>\n",
       "      <td>3.736780e+06</td>\n",
       "      <td>3.740007e+06</td>\n",
       "      <td>29</td>\n",
       "      <td>7.476787e+06</td>\n",
       "    </tr>\n",
       "    <tr>\n",
       "      <th>3</th>\n",
       "      <td>FR</td>\n",
       "      <td>2020-05-13</td>\n",
       "      <td>66</td>\n",
       "      <td>43</td>\n",
       "      <td>109</td>\n",
       "      <td>4.266384e+06</td>\n",
       "      <td>4.028988e+06</td>\n",
       "      <td>39</td>\n",
       "      <td>8.295372e+06</td>\n",
       "    </tr>\n",
       "    <tr>\n",
       "      <th>4</th>\n",
       "      <td>FR</td>\n",
       "      <td>2020-05-13</td>\n",
       "      <td>62</td>\n",
       "      <td>40</td>\n",
       "      <td>102</td>\n",
       "      <td>4.355127e+06</td>\n",
       "      <td>4.237760e+06</td>\n",
       "      <td>49</td>\n",
       "      <td>8.592886e+06</td>\n",
       "    </tr>\n",
       "    <tr>\n",
       "      <th>...</th>\n",
       "      <td>...</td>\n",
       "      <td>...</td>\n",
       "      <td>...</td>\n",
       "      <td>...</td>\n",
       "      <td>...</td>\n",
       "      <td>...</td>\n",
       "      <td>...</td>\n",
       "      <td>...</td>\n",
       "      <td>...</td>\n",
       "    </tr>\n",
       "    <tr>\n",
       "      <th>6265</th>\n",
       "      <td>FR</td>\n",
       "      <td>2021-12-03</td>\n",
       "      <td>2200</td>\n",
       "      <td>2009</td>\n",
       "      <td>4257</td>\n",
       "      <td>4.209746e+06</td>\n",
       "      <td>3.794337e+06</td>\n",
       "      <td>69</td>\n",
       "      <td>8.004083e+06</td>\n",
       "    </tr>\n",
       "    <tr>\n",
       "      <th>6266</th>\n",
       "      <td>FR</td>\n",
       "      <td>2021-12-03</td>\n",
       "      <td>1172</td>\n",
       "      <td>980</td>\n",
       "      <td>2168</td>\n",
       "      <td>3.096658e+06</td>\n",
       "      <td>2.598981e+06</td>\n",
       "      <td>79</td>\n",
       "      <td>5.695639e+06</td>\n",
       "    </tr>\n",
       "    <tr>\n",
       "      <th>6267</th>\n",
       "      <td>FR</td>\n",
       "      <td>2021-12-03</td>\n",
       "      <td>486</td>\n",
       "      <td>326</td>\n",
       "      <td>814</td>\n",
       "      <td>1.993318e+06</td>\n",
       "      <td>1.251963e+06</td>\n",
       "      <td>89</td>\n",
       "      <td>3.245281e+06</td>\n",
       "    </tr>\n",
       "    <tr>\n",
       "      <th>6268</th>\n",
       "      <td>FR</td>\n",
       "      <td>2021-12-03</td>\n",
       "      <td>248</td>\n",
       "      <td>92</td>\n",
       "      <td>341</td>\n",
       "      <td>6.720700e+05</td>\n",
       "      <td>2.405106e+05</td>\n",
       "      <td>90</td>\n",
       "      <td>9.125806e+05</td>\n",
       "    </tr>\n",
       "    <tr>\n",
       "      <th>6269</th>\n",
       "      <td>FR</td>\n",
       "      <td>2021-12-03</td>\n",
       "      <td>26559</td>\n",
       "      <td>23696</td>\n",
       "      <td>50916</td>\n",
       "      <td>3.469281e+07</td>\n",
       "      <td>3.242219e+07</td>\n",
       "      <td>0</td>\n",
       "      <td>6.711500e+07</td>\n",
       "    </tr>\n",
       "  </tbody>\n",
       "</table>\n",
       "<p>6270 rows × 9 columns</p>\n",
       "</div>"
      ],
      "text/plain": [
       "     fra        jour    P_f    P_h      P         pop_f         pop_h  \\\n",
       "0     FR  2020-05-13      7      6     13  3.802090e+06  3.961116e+06   \n",
       "1     FR  2020-05-13     21      7     28  4.066327e+06  4.270159e+06   \n",
       "2     FR  2020-05-13     64     41    105  3.736780e+06  3.740007e+06   \n",
       "3     FR  2020-05-13     66     43    109  4.266384e+06  4.028988e+06   \n",
       "4     FR  2020-05-13     62     40    102  4.355127e+06  4.237760e+06   \n",
       "...   ..         ...    ...    ...    ...           ...           ...   \n",
       "6265  FR  2021-12-03   2200   2009   4257  4.209746e+06  3.794337e+06   \n",
       "6266  FR  2021-12-03   1172    980   2168  3.096658e+06  2.598981e+06   \n",
       "6267  FR  2021-12-03    486    326    814  1.993318e+06  1.251963e+06   \n",
       "6268  FR  2021-12-03    248     92    341  6.720700e+05  2.405106e+05   \n",
       "6269  FR  2021-12-03  26559  23696  50916  3.469281e+07  3.242219e+07   \n",
       "\n",
       "      cl_age90           pop  \n",
       "0            9  7.763206e+06  \n",
       "1           19  8.336486e+06  \n",
       "2           29  7.476787e+06  \n",
       "3           39  8.295372e+06  \n",
       "4           49  8.592886e+06  \n",
       "...        ...           ...  \n",
       "6265        69  8.004083e+06  \n",
       "6266        79  5.695639e+06  \n",
       "6267        89  3.245281e+06  \n",
       "6268        90  9.125806e+05  \n",
       "6269         0  6.711500e+07  \n",
       "\n",
       "[6270 rows x 9 columns]"
      ]
     },
     "execution_count": 86,
     "metadata": {},
     "output_type": "execute_result"
    }
   ],
   "source": [
    "covid_data"
   ]
  },
  {
   "cell_type": "code",
   "execution_count": 87,
   "metadata": {},
   "outputs": [
    {
     "data": {
      "text/plain": [
       "<AxesSubplot:xlabel='jour', ylabel='P'>"
      ]
     },
     "execution_count": 87,
     "metadata": {},
     "output_type": "execute_result"
    },
    {
     "data": {
      "image/png": "[encoded data removed]",
      "text/plain": [
       "<Figure size 432x288 with 1 Axes>"
      ]
     },
     "metadata": {
      "needs_background": "light"
     },
     "output_type": "display_data"
    }
   ],
   "source": [
    "import seaborn as sns\n",
    "\n",
    "covid_data = covid_data.groupby('jour').sum()\n",
    "\n",
    "sns.lineplot(data=covid_data, x='jour', y='P')"
   ]
  },
  {
   "cell_type": "markdown",
   "metadata": {},
   "source": [
    "La tendance est la bonne au niveau national mais il y a beaucoup de variations inattendues. On s'intéresse au mois de novembre (par exemple) pour comprendre ça."
   ]
  },
  {
   "cell_type": "code",
   "execution_count": 88,
   "metadata": {},
   "outputs": [],
   "source": [
    "covid_data_november = covid_data[(covid_data.index > '2021-11-01') & (covid_data.index < '2021-11-30')]"
   ]
  },
  {
   "cell_type": "code",
   "execution_count": 91,
   "metadata": {},
   "outputs": [
    {
     "data": {
      "text/plain": [
       "<AxesSubplot:xlabel='jour', ylabel='P'>"
      ]
     },
     "execution_count": 91,
     "metadata": {},
     "output_type": "execute_result"
    },
    {
     "data": {
      "image/png": "[encoded data removed]",
      "text/plain": [
       "<Figure size 432x288 with 1 Axes>"
      ]
     },
     "metadata": {
      "needs_background": "light"
     },
     "output_type": "display_data"
    }
   ],
   "source": [
    "sns.lineplot(data=covid_data_november, x='jour', y='P')"
   ]
  },
  {
   "cell_type": "markdown",
   "metadata": {},
   "source": [
    "On voit la chute tous les week-ends. Pour pallier ce problème on va faire une moyenne sur les 7 derniers jours."
   ]
  },
  {
   "cell_type": "code",
   "execution_count": 92,
   "metadata": {},
   "outputs": [],
   "source": [
    "covid_data['date_datetime'] = covid_data.index"
   ]
  },
  {
   "cell_type": "code",
   "execution_count": 93,
   "metadata": {},
   "outputs": [],
   "source": [
    "covid_data['date_datetime'] = pd.to_datetime(covid_data.date_datetime)"
   ]
  },
  {
   "cell_type": "code",
   "execution_count": 99,
   "metadata": {},
   "outputs": [],
   "source": [
    "covid_data['covid_last7'] = covid_data['P'].rolling(window=7, min_periods=1).mean()"
   ]
  },
  {
   "cell_type": "code",
   "execution_count": 102,
   "metadata": {},
   "outputs": [
    {
     "data": {
      "text/plain": [
       "<AxesSubplot:xlabel='jour', ylabel='covid_last7'>"
      ]
     },
     "execution_count": 102,
     "metadata": {},
     "output_type": "execute_result"
    },
    {
     "data": {
      "image/png": "[encoded data removed]",
      "text/plain": [
       "<Figure size 432x288 with 1 Axes>"
      ]
     },
     "metadata": {
      "needs_background": "light"
     },
     "output_type": "display_data"
    }
   ],
   "source": [
    "sns.lineplot(data=covid_data, x='jour', y='covid_last7')"
   ]
  },
  {
   "cell_type": "markdown",
   "metadata": {},
   "source": [
    "On voit qu'on a bien réduit le bruit lié aux week-ends."
   ]
  },
  {
   "cell_type": "code",
   "execution_count": 101,
   "metadata": {},
   "outputs": [],
   "source": [
    "covid_data_mean = covid_data['covid_last7']"
   ]
  },
  {
   "cell_type": "code",
   "execution_count": 103,
   "metadata": {},
   "outputs": [
    {
     "data": {
      "text/plain": [
       "jour\n",
       "2020-05-13     1792.000000\n",
       "2020-05-14     1901.000000\n",
       "2020-05-15     1961.000000\n",
       "2020-05-16     1616.750000\n",
       "2020-05-17     1350.200000\n",
       "                  ...     \n",
       "2021-11-29    65866.714286\n",
       "2021-11-30    70451.714286\n",
       "2021-12-01    74496.714286\n",
       "2021-12-02    78858.857143\n",
       "2021-12-03    82568.285714\n",
       "Name: covid_last7, Length: 570, dtype: float64"
      ]
     },
     "execution_count": 103,
     "metadata": {},
     "output_type": "execute_result"
    }
   ],
   "source": [
    "covid_data_mean"
   ]
  },
  {
   "cell_type": "code",
   "execution_count": 104,
   "metadata": {},
   "outputs": [],
   "source": [
    "new_df = df.join(other=covid_data_mean, on='date_datetime')\n",
    "new_df['date'] = pd.to_datetime(new_df['date'])"
   ]
  },
  {
   "cell_type": "code",
   "execution_count": 105,
   "metadata": {},
   "outputs": [
    {
     "data": {
      "text/plain": [
       "<AxesSubplot:xlabel='date_datetime', ylabel='covid_last7'>"
      ]
     },
     "execution_count": 105,
     "metadata": {},
     "output_type": "execute_result"
    },
    {
     "data": {
      "image/png": "[encoded data removed]",
      "text/plain": [
       "<Figure size 432x288 with 1 Axes>"
      ]
     },
     "metadata": {
      "needs_background": "light"
     },
     "output_type": "display_data"
    }
   ],
   "source": [
    "sns.lineplot(data=new_df, x='date_datetime', y='covid_last7') # just a sanity check"
   ]
  },
  {
   "cell_type": "code",
   "execution_count": 123,
   "metadata": {},
   "outputs": [],
   "source": [
    "car_data = pd.read_csv('comptage-multimodal-comptages.csv', sep = ';')"
   ]
  },
  {
   "cell_type": "code",
   "execution_count": 124,
   "metadata": {},
   "outputs": [
    {
     "data": {
      "text/html": [
       "<div>\n",
       "<style scoped>\n",
       "    .dataframe tbody tr th:only-of-type {\n",
       "        vertical-align: middle;\n",
       "    }\n",
       "\n",
       "    .dataframe tbody tr th {\n",
       "        vertical-align: top;\n",
       "    }\n",
       "\n",
       "    .dataframe thead th {\n",
       "        text-align: right;\n",
       "    }\n",
       "</style>\n",
       "<table border=\"1\" class=\"dataframe\">\n",
       "  <thead>\n",
       "    <tr style=\"text-align: right;\">\n",
       "      <th></th>\n",
       "      <th>Identifiant trajectoire</th>\n",
       "      <th>Identifiant site</th>\n",
       "      <th>Nom du site</th>\n",
       "      <th>Date et heure de comptage</th>\n",
       "      <th>Mode déplacement</th>\n",
       "      <th>Nombre de véhicules</th>\n",
       "      <th>Type voie</th>\n",
       "      <th>Sens de circulation</th>\n",
       "      <th>Trajectoire</th>\n",
       "      <th>Coordonnées Géo</th>\n",
       "    </tr>\n",
       "  </thead>\n",
       "  <tbody>\n",
       "    <tr>\n",
       "      <th>0</th>\n",
       "      <td>10023_5 -&gt; 1</td>\n",
       "      <td>10023</td>\n",
       "      <td>[Paris] CF318 Rivoli x Lobau</td>\n",
       "      <td>2021-03-16T13:00:00+01:00</td>\n",
       "      <td>Véhicules lourds &gt; 3,5t</td>\n",
       "      <td>5</td>\n",
       "      <td>Voie de circulation générale</td>\n",
       "      <td>E-O</td>\n",
       "      <td>5 -&gt; 1</td>\n",
       "      <td>48.856949,2.353837</td>\n",
       "    </tr>\n",
       "    <tr>\n",
       "      <th>1</th>\n",
       "      <td>10023_5 -&gt; 1</td>\n",
       "      <td>10023</td>\n",
       "      <td>[Paris] CF318 Rivoli x Lobau</td>\n",
       "      <td>2021-03-16T14:00:00+01:00</td>\n",
       "      <td>Véhicules légers &lt; 3,5t</td>\n",
       "      <td>137</td>\n",
       "      <td>Voie de circulation générale</td>\n",
       "      <td>E-O</td>\n",
       "      <td>5 -&gt; 1</td>\n",
       "      <td>48.856949,2.353837</td>\n",
       "    </tr>\n",
       "    <tr>\n",
       "      <th>2</th>\n",
       "      <td>10023_2 -&gt; 1</td>\n",
       "      <td>10023</td>\n",
       "      <td>[Paris] CF318 Rivoli x Lobau</td>\n",
       "      <td>2021-03-16T15:00:00+01:00</td>\n",
       "      <td>2 roues motorisées</td>\n",
       "      <td>1</td>\n",
       "      <td>Piste cyclable</td>\n",
       "      <td>E-O</td>\n",
       "      <td>2 -&gt; 1</td>\n",
       "      <td>48.856949,2.353837</td>\n",
       "    </tr>\n",
       "    <tr>\n",
       "      <th>3</th>\n",
       "      <td>10023_5 -&gt; 1</td>\n",
       "      <td>10023</td>\n",
       "      <td>[Paris] CF318 Rivoli x Lobau</td>\n",
       "      <td>2021-03-16T17:00:00+01:00</td>\n",
       "      <td>Véhicules légers &lt; 3,5t</td>\n",
       "      <td>57</td>\n",
       "      <td>Voie de circulation générale</td>\n",
       "      <td>E-O</td>\n",
       "      <td>5 -&gt; 1</td>\n",
       "      <td>48.856949,2.353837</td>\n",
       "    </tr>\n",
       "    <tr>\n",
       "      <th>4</th>\n",
       "      <td>10023_4 -&gt; 1</td>\n",
       "      <td>10023</td>\n",
       "      <td>[Paris] CF318 Rivoli x Lobau</td>\n",
       "      <td>2021-03-16T21:00:00+01:00</td>\n",
       "      <td>Autobus et autocars</td>\n",
       "      <td>2</td>\n",
       "      <td>Coronapiste</td>\n",
       "      <td>E-O</td>\n",
       "      <td>4 -&gt; 1</td>\n",
       "      <td>48.856949,2.353837</td>\n",
       "    </tr>\n",
       "    <tr>\n",
       "      <th>...</th>\n",
       "      <td>...</td>\n",
       "      <td>...</td>\n",
       "      <td>...</td>\n",
       "      <td>...</td>\n",
       "      <td>...</td>\n",
       "      <td>...</td>\n",
       "      <td>...</td>\n",
       "      <td>...</td>\n",
       "      <td>...</td>\n",
       "      <td>...</td>\n",
       "    </tr>\n",
       "    <tr>\n",
       "      <th>776641</th>\n",
       "      <td>10022_1 -&gt; 1</td>\n",
       "      <td>10022</td>\n",
       "      <td>[Paris] CF892 Rivoli x Bourdonnais</td>\n",
       "      <td>2021-12-03T14:00:00+01:00</td>\n",
       "      <td>Autobus et autocars</td>\n",
       "      <td>28</td>\n",
       "      <td>Voie de circulation générale</td>\n",
       "      <td>E-O</td>\n",
       "      <td>1 -&gt; 1</td>\n",
       "      <td>48.859617,2.344817</td>\n",
       "    </tr>\n",
       "    <tr>\n",
       "      <th>776642</th>\n",
       "      <td>10022_3 -&gt; 2</td>\n",
       "      <td>10022</td>\n",
       "      <td>[Paris] CF892 Rivoli x Bourdonnais</td>\n",
       "      <td>2021-12-03T14:00:00+01:00</td>\n",
       "      <td>Véhicules légers &lt; 3,5t</td>\n",
       "      <td>4</td>\n",
       "      <td>Coronapiste</td>\n",
       "      <td>E-O</td>\n",
       "      <td>3 -&gt; 2</td>\n",
       "      <td>48.859617,2.344817</td>\n",
       "    </tr>\n",
       "    <tr>\n",
       "      <th>776643</th>\n",
       "      <td>10022_3 -&gt; 2</td>\n",
       "      <td>10022</td>\n",
       "      <td>[Paris] CF892 Rivoli x Bourdonnais</td>\n",
       "      <td>2021-12-03T14:00:00+01:00</td>\n",
       "      <td>2 roues motorisées</td>\n",
       "      <td>4</td>\n",
       "      <td>Coronapiste</td>\n",
       "      <td>E-O</td>\n",
       "      <td>3 -&gt; 2</td>\n",
       "      <td>48.859617,2.344817</td>\n",
       "    </tr>\n",
       "    <tr>\n",
       "      <th>776644</th>\n",
       "      <td>10022_1 -&gt; 1</td>\n",
       "      <td>10022</td>\n",
       "      <td>[Paris] CF892 Rivoli x Bourdonnais</td>\n",
       "      <td>2021-12-03T15:00:00+01:00</td>\n",
       "      <td>Véhicules légers &lt; 3,5t</td>\n",
       "      <td>311</td>\n",
       "      <td>Voie de circulation générale</td>\n",
       "      <td>E-O</td>\n",
       "      <td>1 -&gt; 1</td>\n",
       "      <td>48.859617,2.344817</td>\n",
       "    </tr>\n",
       "    <tr>\n",
       "      <th>776645</th>\n",
       "      <td>10022_1 -&gt; 1</td>\n",
       "      <td>10022</td>\n",
       "      <td>[Paris] CF892 Rivoli x Bourdonnais</td>\n",
       "      <td>2021-12-03T16:00:00+01:00</td>\n",
       "      <td>Autobus et autocars</td>\n",
       "      <td>30</td>\n",
       "      <td>Voie de circulation générale</td>\n",
       "      <td>E-O</td>\n",
       "      <td>1 -&gt; 1</td>\n",
       "      <td>48.859617,2.344817</td>\n",
       "    </tr>\n",
       "  </tbody>\n",
       "</table>\n",
       "<p>776646 rows × 10 columns</p>\n",
       "</div>"
      ],
      "text/plain": [
       "       Identifiant trajectoire  Identifiant site  \\\n",
       "0                 10023_5 -> 1             10023   \n",
       "1                 10023_5 -> 1             10023   \n",
       "2                 10023_2 -> 1             10023   \n",
       "3                 10023_5 -> 1             10023   \n",
       "4                 10023_4 -> 1             10023   \n",
       "...                        ...               ...   \n",
       "776641            10022_1 -> 1             10022   \n",
       "776642            10022_3 -> 2             10022   \n",
       "776643            10022_3 -> 2             10022   \n",
       "776644            10022_1 -> 1             10022   \n",
       "776645            10022_1 -> 1             10022   \n",
       "\n",
       "                               Nom du site  Date et heure de comptage  \\\n",
       "0             [Paris] CF318 Rivoli x Lobau  2021-03-16T13:00:00+01:00   \n",
       "1             [Paris] CF318 Rivoli x Lobau  2021-03-16T14:00:00+01:00   \n",
       "2             [Paris] CF318 Rivoli x Lobau  2021-03-16T15:00:00+01:00   \n",
       "3             [Paris] CF318 Rivoli x Lobau  2021-03-16T17:00:00+01:00   \n",
       "4             [Paris] CF318 Rivoli x Lobau  2021-03-16T21:00:00+01:00   \n",
       "...                                    ...                        ...   \n",
       "776641  [Paris] CF892 Rivoli x Bourdonnais  2021-12-03T14:00:00+01:00   \n",
       "776642  [Paris] CF892 Rivoli x Bourdonnais  2021-12-03T14:00:00+01:00   \n",
       "776643  [Paris] CF892 Rivoli x Bourdonnais  2021-12-03T14:00:00+01:00   \n",
       "776644  [Paris] CF892 Rivoli x Bourdonnais  2021-12-03T15:00:00+01:00   \n",
       "776645  [Paris] CF892 Rivoli x Bourdonnais  2021-12-03T16:00:00+01:00   \n",
       "\n",
       "               Mode déplacement  Nombre de véhicules  \\\n",
       "0       Véhicules lourds > 3,5t                    5   \n",
       "1       Véhicules légers < 3,5t                  137   \n",
       "2            2 roues motorisées                    1   \n",
       "3       Véhicules légers < 3,5t                   57   \n",
       "4           Autobus et autocars                    2   \n",
       "...                         ...                  ...   \n",
       "776641      Autobus et autocars                   28   \n",
       "776642  Véhicules légers < 3,5t                    4   \n",
       "776643       2 roues motorisées                    4   \n",
       "776644  Véhicules légers < 3,5t                  311   \n",
       "776645      Autobus et autocars                   30   \n",
       "\n",
       "                           Type voie Sens de circulation Trajectoire  \\\n",
       "0       Voie de circulation générale                 E-O      5 -> 1   \n",
       "1       Voie de circulation générale                 E-O      5 -> 1   \n",
       "2                     Piste cyclable                 E-O      2 -> 1   \n",
       "3       Voie de circulation générale                 E-O      5 -> 1   \n",
       "4                        Coronapiste                 E-O      4 -> 1   \n",
       "...                              ...                 ...         ...   \n",
       "776641  Voie de circulation générale                 E-O      1 -> 1   \n",
       "776642                   Coronapiste                 E-O      3 -> 2   \n",
       "776643                   Coronapiste                 E-O      3 -> 2   \n",
       "776644  Voie de circulation générale                 E-O      1 -> 1   \n",
       "776645  Voie de circulation générale                 E-O      1 -> 1   \n",
       "\n",
       "           Coordonnées Géo  \n",
       "0       48.856949,2.353837  \n",
       "1       48.856949,2.353837  \n",
       "2       48.856949,2.353837  \n",
       "3       48.856949,2.353837  \n",
       "4       48.856949,2.353837  \n",
       "...                    ...  \n",
       "776641  48.859617,2.344817  \n",
       "776642  48.859617,2.344817  \n",
       "776643  48.859617,2.344817  \n",
       "776644  48.859617,2.344817  \n",
       "776645  48.859617,2.344817  \n",
       "\n",
       "[776646 rows x 10 columns]"
      ]
     },
     "execution_count": 124,
     "metadata": {},
     "output_type": "execute_result"
    }
   ],
   "source": [
    "car_data"
   ]
  },
  {
   "cell_type": "code",
   "execution_count": 125,
   "metadata": {},
   "outputs": [],
   "source": [
    "car_data['date'] = pd.to_datetime(car_data['Date et heure de comptage'])"
   ]
  },
  {
   "cell_type": "code",
   "execution_count": 126,
   "metadata": {},
   "outputs": [],
   "source": [
    "car_data['date_datetime'] = car_data['date'].apply(lambda x: x.date())"
   ]
  },
  {
   "cell_type": "code",
   "execution_count": 127,
   "metadata": {},
   "outputs": [
    {
     "data": {
      "text/plain": [
       "array(['Véhicules lourds > 3,5t', 'Véhicules légers < 3,5t',\n",
       "       '2 roues motorisées', 'Autobus et autocars',\n",
       "       'Trottinettes + vélos', 'Vélos', 'Trottinettes'], dtype=object)"
      ]
     },
     "execution_count": 127,
     "metadata": {},
     "output_type": "execute_result"
    }
   ],
   "source": [
    "car_data[\"Mode déplacement\"].unique()"
   ]
  },
  {
   "cell_type": "code",
   "execution_count": 128,
   "metadata": {},
   "outputs": [],
   "source": [
    "car_data['is_velo'] = car_data['Mode déplacement'].apply(lambda x : \"élos\" in x)"
   ]
  },
  {
   "cell_type": "code",
   "execution_count": 129,
   "metadata": {},
   "outputs": [],
   "source": [
    "car_data = car_data[car_data['is_velo'] == False]"
   ]
  },
  {
   "cell_type": "markdown",
   "metadata": {},
   "source": [
    "On flagge puis on supprime les données vélos"
   ]
  },
  {
   "cell_type": "code",
   "execution_count": 132,
   "metadata": {},
   "outputs": [
    {
     "data": {
      "text/plain": [
       "array(['48.856949,2.353837', '48.8714843,2.3418311',\n",
       "       '48.8714843,2.341831', '48.858273,2.349109', '48.883513,2.327263',\n",
       "       '48.877338,2.365016', '48.875967,2.364635', '48.859617,2.344817',\n",
       "       '48.858628,2.348208', nan], dtype=object)"
      ]
     },
     "execution_count": 132,
     "metadata": {},
     "output_type": "execute_result"
    }
   ],
   "source": [
    "car_data['Coordonnées Géo'].unique()"
   ]
  },
  {
   "cell_type": "markdown",
   "metadata": {},
   "source": [
    "On inspecte les données géographiques pour voir si on peut les relier aux sites de comptage du bikes-ramp project. Ce n'est pas le cas malheureusement."
   ]
  },
  {
   "cell_type": "code",
   "execution_count": 134,
   "metadata": {},
   "outputs": [
    {
     "data": {
      "text/html": [
       "<div>\n",
       "<style scoped>\n",
       "    .dataframe tbody tr th:only-of-type {\n",
       "        vertical-align: middle;\n",
       "    }\n",
       "\n",
       "    .dataframe tbody tr th {\n",
       "        vertical-align: top;\n",
       "    }\n",
       "\n",
       "    .dataframe thead th {\n",
       "        text-align: right;\n",
       "    }\n",
       "</style>\n",
       "<table border=\"1\" class=\"dataframe\">\n",
       "  <thead>\n",
       "    <tr style=\"text-align: right;\">\n",
       "      <th></th>\n",
       "      <th>Identifiant trajectoire</th>\n",
       "      <th>Identifiant site</th>\n",
       "      <th>Nom du site</th>\n",
       "      <th>Date et heure de comptage</th>\n",
       "      <th>Mode déplacement</th>\n",
       "      <th>Nombre de véhicules</th>\n",
       "      <th>Type voie</th>\n",
       "      <th>Sens de circulation</th>\n",
       "      <th>Trajectoire</th>\n",
       "      <th>Coordonnées Géo</th>\n",
       "      <th>date</th>\n",
       "      <th>date_datetime</th>\n",
       "      <th>is_velo</th>\n",
       "    </tr>\n",
       "  </thead>\n",
       "  <tbody>\n",
       "    <tr>\n",
       "      <th>631899</th>\n",
       "      <td>10004_5 -&gt; 3</td>\n",
       "      <td>10004</td>\n",
       "      <td>[Paris] Rivoli x Nicolas Flamel</td>\n",
       "      <td>2020-05-23T00:00:00+02:00</td>\n",
       "      <td>Autobus et autocars</td>\n",
       "      <td>5</td>\n",
       "      <td>Voie de circulation générale</td>\n",
       "      <td>E-O</td>\n",
       "      <td>5 -&gt; 3</td>\n",
       "      <td>48.858273,2.349109</td>\n",
       "      <td>2020-05-23 00:00:00+02:00</td>\n",
       "      <td>2020-05-23</td>\n",
       "      <td>False</td>\n",
       "    </tr>\n",
       "    <tr>\n",
       "      <th>632729</th>\n",
       "      <td>10004_5 -&gt; 3</td>\n",
       "      <td>10004</td>\n",
       "      <td>[Paris] Rivoli x Nicolas Flamel</td>\n",
       "      <td>2020-05-23T00:00:00+02:00</td>\n",
       "      <td>Véhicules légers &lt; 3,5t</td>\n",
       "      <td>85</td>\n",
       "      <td>Voie de circulation générale</td>\n",
       "      <td>E-O</td>\n",
       "      <td>5 -&gt; 3</td>\n",
       "      <td>48.858273,2.349109</td>\n",
       "      <td>2020-05-23 00:00:00+02:00</td>\n",
       "      <td>2020-05-23</td>\n",
       "      <td>False</td>\n",
       "    </tr>\n",
       "    <tr>\n",
       "      <th>98531</th>\n",
       "      <td>10004_5 -&gt; 3</td>\n",
       "      <td>10004</td>\n",
       "      <td>[Paris] Rivoli x Nicolas Flamel</td>\n",
       "      <td>2020-05-23T01:00:00+02:00</td>\n",
       "      <td>Véhicules légers &lt; 3,5t</td>\n",
       "      <td>85</td>\n",
       "      <td>Voie de circulation générale</td>\n",
       "      <td>E-O</td>\n",
       "      <td>5 -&gt; 3</td>\n",
       "      <td>48.858273,2.349109</td>\n",
       "      <td>2020-05-23 01:00:00+02:00</td>\n",
       "      <td>2020-05-23</td>\n",
       "      <td>False</td>\n",
       "    </tr>\n",
       "    <tr>\n",
       "      <th>492443</th>\n",
       "      <td>10004_2 -&gt; 1</td>\n",
       "      <td>10004</td>\n",
       "      <td>[Paris] Rivoli x Nicolas Flamel</td>\n",
       "      <td>2020-05-23T01:00:00+02:00</td>\n",
       "      <td>Véhicules légers &lt; 3,5t</td>\n",
       "      <td>1</td>\n",
       "      <td>Piste cyclable</td>\n",
       "      <td>E-O</td>\n",
       "      <td>2 -&gt; 1</td>\n",
       "      <td>48.858273,2.349109</td>\n",
       "      <td>2020-05-23 01:00:00+02:00</td>\n",
       "      <td>2020-05-23</td>\n",
       "      <td>False</td>\n",
       "    </tr>\n",
       "    <tr>\n",
       "      <th>60988</th>\n",
       "      <td>10004_2 -&gt; 1</td>\n",
       "      <td>10004</td>\n",
       "      <td>[Paris] Rivoli x Nicolas Flamel</td>\n",
       "      <td>2020-05-23T02:00:00+02:00</td>\n",
       "      <td>Véhicules légers &lt; 3,5t</td>\n",
       "      <td>1</td>\n",
       "      <td>Piste cyclable</td>\n",
       "      <td>E-O</td>\n",
       "      <td>2 -&gt; 1</td>\n",
       "      <td>48.858273,2.349109</td>\n",
       "      <td>2020-05-23 02:00:00+02:00</td>\n",
       "      <td>2020-05-23</td>\n",
       "      <td>False</td>\n",
       "    </tr>\n",
       "    <tr>\n",
       "      <th>...</th>\n",
       "      <td>...</td>\n",
       "      <td>...</td>\n",
       "      <td>...</td>\n",
       "      <td>...</td>\n",
       "      <td>...</td>\n",
       "      <td>...</td>\n",
       "      <td>...</td>\n",
       "      <td>...</td>\n",
       "      <td>...</td>\n",
       "      <td>...</td>\n",
       "      <td>...</td>\n",
       "      <td>...</td>\n",
       "      <td>...</td>\n",
       "    </tr>\n",
       "    <tr>\n",
       "      <th>735766</th>\n",
       "      <td>10028_1 -&gt; 1</td>\n",
       "      <td>10028</td>\n",
       "      <td>[Paris] CF4 Poissonnière x Montmartre EST</td>\n",
       "      <td>2021-12-03T23:00:00+01:00</td>\n",
       "      <td>Autobus et autocars</td>\n",
       "      <td>4</td>\n",
       "      <td>Voie de circulation générale</td>\n",
       "      <td>O-E</td>\n",
       "      <td>1 -&gt; 1</td>\n",
       "      <td>48.8714843,2.3418311</td>\n",
       "      <td>2021-12-03 23:00:00+01:00</td>\n",
       "      <td>2021-12-03</td>\n",
       "      <td>False</td>\n",
       "    </tr>\n",
       "    <tr>\n",
       "      <th>737402</th>\n",
       "      <td>10028_1 -&gt; 1</td>\n",
       "      <td>10028</td>\n",
       "      <td>[Paris] CF4 Poissonnière x Montmartre EST</td>\n",
       "      <td>2021-12-03T23:00:00+01:00</td>\n",
       "      <td>2 roues motorisées</td>\n",
       "      <td>46</td>\n",
       "      <td>Voie de circulation générale</td>\n",
       "      <td>O-E</td>\n",
       "      <td>1 -&gt; 1</td>\n",
       "      <td>48.8714843,2.3418311</td>\n",
       "      <td>2021-12-03 23:00:00+01:00</td>\n",
       "      <td>2021-12-03</td>\n",
       "      <td>False</td>\n",
       "    </tr>\n",
       "    <tr>\n",
       "      <th>735014</th>\n",
       "      <td>10022_1 -&gt; 1</td>\n",
       "      <td>10022</td>\n",
       "      <td>[Paris] CF892 Rivoli x Bourdonnais</td>\n",
       "      <td>2021-12-03T23:00:00+01:00</td>\n",
       "      <td>Véhicules légers &lt; 3,5t</td>\n",
       "      <td>315</td>\n",
       "      <td>Voie de circulation générale</td>\n",
       "      <td>E-O</td>\n",
       "      <td>1 -&gt; 1</td>\n",
       "      <td>48.859617,2.344817</td>\n",
       "      <td>2021-12-03 23:00:00+01:00</td>\n",
       "      <td>2021-12-03</td>\n",
       "      <td>False</td>\n",
       "    </tr>\n",
       "    <tr>\n",
       "      <th>735010</th>\n",
       "      <td>10030_1 -&gt; 1</td>\n",
       "      <td>10030</td>\n",
       "      <td>[Paris] CF1 Rivoli x Sébastopol</td>\n",
       "      <td>2021-12-03T23:00:00+01:00</td>\n",
       "      <td>2 roues motorisées</td>\n",
       "      <td>75</td>\n",
       "      <td>Voie de circulation générale</td>\n",
       "      <td>S-N</td>\n",
       "      <td>1 -&gt; 1</td>\n",
       "      <td>48.858628,2.348208</td>\n",
       "      <td>2021-12-03 23:00:00+01:00</td>\n",
       "      <td>2021-12-03</td>\n",
       "      <td>False</td>\n",
       "    </tr>\n",
       "    <tr>\n",
       "      <th>735159</th>\n",
       "      <td>10029_1 -&gt; 1</td>\n",
       "      <td>10029</td>\n",
       "      <td>[Paris] CF4 Poissonnière x Montmartre OUEST</td>\n",
       "      <td>2021-12-03T23:00:00+01:00</td>\n",
       "      <td>Véhicules légers &lt; 3,5t</td>\n",
       "      <td>633</td>\n",
       "      <td>Voie de circulation générale</td>\n",
       "      <td>E-O</td>\n",
       "      <td>1 -&gt; 1</td>\n",
       "      <td>48.8714843,2.341831</td>\n",
       "      <td>2021-12-03 23:00:00+01:00</td>\n",
       "      <td>2021-12-03</td>\n",
       "      <td>False</td>\n",
       "    </tr>\n",
       "  </tbody>\n",
       "</table>\n",
       "<p>507326 rows × 13 columns</p>\n",
       "</div>"
      ],
      "text/plain": [
       "       Identifiant trajectoire  Identifiant site  \\\n",
       "631899            10004_5 -> 3             10004   \n",
       "632729            10004_5 -> 3             10004   \n",
       "98531             10004_5 -> 3             10004   \n",
       "492443            10004_2 -> 1             10004   \n",
       "60988             10004_2 -> 1             10004   \n",
       "...                        ...               ...   \n",
       "735766            10028_1 -> 1             10028   \n",
       "737402            10028_1 -> 1             10028   \n",
       "735014            10022_1 -> 1             10022   \n",
       "735010            10030_1 -> 1             10030   \n",
       "735159            10029_1 -> 1             10029   \n",
       "\n",
       "                                        Nom du site  \\\n",
       "631899              [Paris] Rivoli x Nicolas Flamel   \n",
       "632729              [Paris] Rivoli x Nicolas Flamel   \n",
       "98531               [Paris] Rivoli x Nicolas Flamel   \n",
       "492443              [Paris] Rivoli x Nicolas Flamel   \n",
       "60988               [Paris] Rivoli x Nicolas Flamel   \n",
       "...                                             ...   \n",
       "735766    [Paris] CF4 Poissonnière x Montmartre EST   \n",
       "737402    [Paris] CF4 Poissonnière x Montmartre EST   \n",
       "735014           [Paris] CF892 Rivoli x Bourdonnais   \n",
       "735010              [Paris] CF1 Rivoli x Sébastopol   \n",
       "735159  [Paris] CF4 Poissonnière x Montmartre OUEST   \n",
       "\n",
       "        Date et heure de comptage         Mode déplacement  \\\n",
       "631899  2020-05-23T00:00:00+02:00      Autobus et autocars   \n",
       "632729  2020-05-23T00:00:00+02:00  Véhicules légers < 3,5t   \n",
       "98531   2020-05-23T01:00:00+02:00  Véhicules légers < 3,5t   \n",
       "492443  2020-05-23T01:00:00+02:00  Véhicules légers < 3,5t   \n",
       "60988   2020-05-23T02:00:00+02:00  Véhicules légers < 3,5t   \n",
       "...                           ...                      ...   \n",
       "735766  2021-12-03T23:00:00+01:00      Autobus et autocars   \n",
       "737402  2021-12-03T23:00:00+01:00       2 roues motorisées   \n",
       "735014  2021-12-03T23:00:00+01:00  Véhicules légers < 3,5t   \n",
       "735010  2021-12-03T23:00:00+01:00       2 roues motorisées   \n",
       "735159  2021-12-03T23:00:00+01:00  Véhicules légers < 3,5t   \n",
       "\n",
       "        Nombre de véhicules                     Type voie Sens de circulation  \\\n",
       "631899                    5  Voie de circulation générale                 E-O   \n",
       "632729                   85  Voie de circulation générale                 E-O   \n",
       "98531                    85  Voie de circulation générale                 E-O   \n",
       "492443                    1                Piste cyclable                 E-O   \n",
       "60988                     1                Piste cyclable                 E-O   \n",
       "...                     ...                           ...                 ...   \n",
       "735766                    4  Voie de circulation générale                 O-E   \n",
       "737402                   46  Voie de circulation générale                 O-E   \n",
       "735014                  315  Voie de circulation générale                 E-O   \n",
       "735010                   75  Voie de circulation générale                 S-N   \n",
       "735159                  633  Voie de circulation générale                 E-O   \n",
       "\n",
       "       Trajectoire       Coordonnées Géo                       date  \\\n",
       "631899      5 -> 3    48.858273,2.349109  2020-05-23 00:00:00+02:00   \n",
       "632729      5 -> 3    48.858273,2.349109  2020-05-23 00:00:00+02:00   \n",
       "98531       5 -> 3    48.858273,2.349109  2020-05-23 01:00:00+02:00   \n",
       "492443      2 -> 1    48.858273,2.349109  2020-05-23 01:00:00+02:00   \n",
       "60988       2 -> 1    48.858273,2.349109  2020-05-23 02:00:00+02:00   \n",
       "...            ...                   ...                        ...   \n",
       "735766      1 -> 1  48.8714843,2.3418311  2021-12-03 23:00:00+01:00   \n",
       "737402      1 -> 1  48.8714843,2.3418311  2021-12-03 23:00:00+01:00   \n",
       "735014      1 -> 1    48.859617,2.344817  2021-12-03 23:00:00+01:00   \n",
       "735010      1 -> 1    48.858628,2.348208  2021-12-03 23:00:00+01:00   \n",
       "735159      1 -> 1   48.8714843,2.341831  2021-12-03 23:00:00+01:00   \n",
       "\n",
       "       date_datetime  is_velo  \n",
       "631899    2020-05-23    False  \n",
       "632729    2020-05-23    False  \n",
       "98531     2020-05-23    False  \n",
       "492443    2020-05-23    False  \n",
       "60988     2020-05-23    False  \n",
       "...              ...      ...  \n",
       "735766    2021-12-03    False  \n",
       "737402    2021-12-03    False  \n",
       "735014    2021-12-03    False  \n",
       "735010    2021-12-03    False  \n",
       "735159    2021-12-03    False  \n",
       "\n",
       "[507326 rows x 13 columns]"
      ]
     },
     "execution_count": 134,
     "metadata": {},
     "output_type": "execute_result"
    }
   ],
   "source": [
    "car_data.sort_values(by='date')"
   ]
  },
  {
   "cell_type": "code",
   "execution_count": 171,
   "metadata": {},
   "outputs": [
    {
     "data": {
      "text/plain": [
       "array(['Véhicules lourds > 3,5t', 'Véhicules légers < 3,5t',\n",
       "       '2 roues motorisées', 'Autobus et autocars', 'Trottinettes'],\n",
       "      dtype=object)"
      ]
     },
     "execution_count": 171,
     "metadata": {},
     "output_type": "execute_result"
    }
   ],
   "source": [
    "car_data['Mode déplacement'].unique()"
   ]
  },
  {
   "cell_type": "markdown",
   "metadata": {},
   "source": [
    "On fait le choix de ne garder que les données de trottinettes qui paraissent plus corrélées avec les données de vélos."
   ]
  },
  {
   "cell_type": "code",
   "execution_count": 172,
   "metadata": {},
   "outputs": [],
   "source": [
    "trot_data = car_data[car_data['Mode déplacement'] == 'Trottinettes']\n",
    "trot_day = trot_data[['date', 'Nombre de véhicules']]\n",
    "trot_day['date'] = trot_day['date'].apply(lambda x: x.replace(tzinfo=None))\n",
    "trot_day = trot_day.groupby('date').sum()"
   ]
  },
  {
   "cell_type": "code",
   "execution_count": 182,
   "metadata": {},
   "outputs": [
    {
     "data": {
      "text/plain": [
       "<AxesSubplot:xlabel='date', ylabel='Nombre de véhicules'>"
      ]
     },
     "execution_count": 182,
     "metadata": {},
     "output_type": "execute_result"
    },
    {
     "data": {
      "image/png": "[encoded data removed]",
      "text/plain": [
       "<Figure size 432x288 with 1 Axes>"
      ]
     },
     "metadata": {
      "needs_background": "light"
     },
     "output_type": "display_data"
    }
   ],
   "source": [
    "sns.lineplot(data=trot_day, x='date', y='Nombre de véhicules')"
   ]
  },
  {
   "cell_type": "markdown",
   "metadata": {},
   "source": [
    "Il semble y avoir un problème début septembre. Nous allons inspecter la données début septembre pour s'en assurer."
   ]
  },
  {
   "cell_type": "code",
   "execution_count": 184,
   "metadata": {},
   "outputs": [],
   "source": [
    "trot_day.columns=['nb_trot']"
   ]
  },
  {
   "cell_type": "code",
   "execution_count": 207,
   "metadata": {},
   "outputs": [
    {
     "data": {
      "text/html": [
       "<div>\n",
       "<style scoped>\n",
       "    .dataframe tbody tr th:only-of-type {\n",
       "        vertical-align: middle;\n",
       "    }\n",
       "\n",
       "    .dataframe tbody tr th {\n",
       "        vertical-align: top;\n",
       "    }\n",
       "\n",
       "    .dataframe thead th {\n",
       "        text-align: right;\n",
       "    }\n",
       "</style>\n",
       "<table border=\"1\" class=\"dataframe\">\n",
       "  <thead>\n",
       "    <tr style=\"text-align: right;\">\n",
       "      <th></th>\n",
       "      <th>nb_trot</th>\n",
       "    </tr>\n",
       "    <tr>\n",
       "      <th>date</th>\n",
       "      <th></th>\n",
       "    </tr>\n",
       "  </thead>\n",
       "  <tbody>\n",
       "    <tr>\n",
       "      <th>2020-09-10 00:00:00</th>\n",
       "      <td>71</td>\n",
       "    </tr>\n",
       "    <tr>\n",
       "      <th>2020-09-10 01:00:00</th>\n",
       "      <td>35</td>\n",
       "    </tr>\n",
       "    <tr>\n",
       "      <th>2020-09-10 02:00:00</th>\n",
       "      <td>28</td>\n",
       "    </tr>\n",
       "    <tr>\n",
       "      <th>2020-09-10 03:00:00</th>\n",
       "      <td>14</td>\n",
       "    </tr>\n",
       "    <tr>\n",
       "      <th>2020-09-10 04:00:00</th>\n",
       "      <td>8</td>\n",
       "    </tr>\n",
       "    <tr>\n",
       "      <th>2020-09-10 05:00:00</th>\n",
       "      <td>3</td>\n",
       "    </tr>\n",
       "    <tr>\n",
       "      <th>2020-09-10 06:00:00</th>\n",
       "      <td>28</td>\n",
       "    </tr>\n",
       "    <tr>\n",
       "      <th>2020-09-10 07:00:00</th>\n",
       "      <td>45</td>\n",
       "    </tr>\n",
       "    <tr>\n",
       "      <th>2020-09-10 08:00:00</th>\n",
       "      <td>117</td>\n",
       "    </tr>\n",
       "    <tr>\n",
       "      <th>2020-09-10 09:00:00</th>\n",
       "      <td>137</td>\n",
       "    </tr>\n",
       "    <tr>\n",
       "      <th>2020-09-10 10:00:00</th>\n",
       "      <td>91</td>\n",
       "    </tr>\n",
       "    <tr>\n",
       "      <th>2020-09-10 11:00:00</th>\n",
       "      <td>83</td>\n",
       "    </tr>\n",
       "    <tr>\n",
       "      <th>2020-09-10 12:00:00</th>\n",
       "      <td>88</td>\n",
       "    </tr>\n",
       "    <tr>\n",
       "      <th>2020-09-10 13:00:00</th>\n",
       "      <td>82</td>\n",
       "    </tr>\n",
       "    <tr>\n",
       "      <th>2020-09-10 14:00:00</th>\n",
       "      <td>92</td>\n",
       "    </tr>\n",
       "    <tr>\n",
       "      <th>2020-09-10 15:00:00</th>\n",
       "      <td>123</td>\n",
       "    </tr>\n",
       "    <tr>\n",
       "      <th>2020-09-10 16:00:00</th>\n",
       "      <td>131</td>\n",
       "    </tr>\n",
       "    <tr>\n",
       "      <th>2020-09-10 17:00:00</th>\n",
       "      <td>148</td>\n",
       "    </tr>\n",
       "    <tr>\n",
       "      <th>2020-09-10 18:00:00</th>\n",
       "      <td>215</td>\n",
       "    </tr>\n",
       "    <tr>\n",
       "      <th>2020-09-10 19:00:00</th>\n",
       "      <td>228</td>\n",
       "    </tr>\n",
       "    <tr>\n",
       "      <th>2020-09-10 20:00:00</th>\n",
       "      <td>172</td>\n",
       "    </tr>\n",
       "    <tr>\n",
       "      <th>2020-09-10 21:00:00</th>\n",
       "      <td>106</td>\n",
       "    </tr>\n",
       "    <tr>\n",
       "      <th>2020-09-10 22:00:00</th>\n",
       "      <td>105</td>\n",
       "    </tr>\n",
       "    <tr>\n",
       "      <th>2020-09-10 23:00:00</th>\n",
       "      <td>93</td>\n",
       "    </tr>\n",
       "    <tr>\n",
       "      <th>2020-09-11 00:00:00</th>\n",
       "      <td>60</td>\n",
       "    </tr>\n",
       "  </tbody>\n",
       "</table>\n",
       "</div>"
      ],
      "text/plain": [
       "                     nb_trot\n",
       "date                        \n",
       "2020-09-10 00:00:00       71\n",
       "2020-09-10 01:00:00       35\n",
       "2020-09-10 02:00:00       28\n",
       "2020-09-10 03:00:00       14\n",
       "2020-09-10 04:00:00        8\n",
       "2020-09-10 05:00:00        3\n",
       "2020-09-10 06:00:00       28\n",
       "2020-09-10 07:00:00       45\n",
       "2020-09-10 08:00:00      117\n",
       "2020-09-10 09:00:00      137\n",
       "2020-09-10 10:00:00       91\n",
       "2020-09-10 11:00:00       83\n",
       "2020-09-10 12:00:00       88\n",
       "2020-09-10 13:00:00       82\n",
       "2020-09-10 14:00:00       92\n",
       "2020-09-10 15:00:00      123\n",
       "2020-09-10 16:00:00      131\n",
       "2020-09-10 17:00:00      148\n",
       "2020-09-10 18:00:00      215\n",
       "2020-09-10 19:00:00      228\n",
       "2020-09-10 20:00:00      172\n",
       "2020-09-10 21:00:00      106\n",
       "2020-09-10 22:00:00      105\n",
       "2020-09-10 23:00:00       93\n",
       "2020-09-11 00:00:00       60"
      ]
     },
     "execution_count": 207,
     "metadata": {},
     "output_type": "execute_result"
    }
   ],
   "source": [
    "trot_day[datetime(2020, 9, 1):datetime(2020, 9, 11)]"
   ]
  },
  {
   "cell_type": "markdown",
   "metadata": {},
   "source": [
    "effectivement il manque les 9 premiers jours de septembre. Ces 9 jours débutent un mardi, donc nous allons les remplacer par les données des 9 jours de septembre imméditament suivant débutant un mardi pour lesquels nous avons les données"
   ]
  },
  {
   "cell_type": "code",
   "execution_count": 204,
   "metadata": {},
   "outputs": [
    {
     "data": {
      "text/plain": [
       "414"
      ]
     },
     "execution_count": 204,
     "metadata": {},
     "output_type": "execute_result"
    }
   ],
   "source": [
    "test_trot.nb_trot.isnull().sum()"
   ]
  },
  {
   "cell_type": "markdown",
   "metadata": {},
   "source": [
    "Il manque quelques autres lignes, nous les traiterons plus tard"
   ]
  },
  {
   "cell_type": "code",
   "execution_count": 209,
   "metadata": {},
   "outputs": [],
   "source": [
    "trot_day_rw = trot_day.reset_index()"
   ]
  },
  {
   "cell_type": "code",
   "execution_count": 229,
   "metadata": {},
   "outputs": [],
   "source": [
    "sept = trot_day[datetime(2020, 9, 15):datetime(2020, 9, 24)]\n",
    "sept = sept.reset_index()\n",
    "sept['date'][0].date().day"
   ]
  },
  {
   "cell_type": "code",
   "execution_count": 233,
   "metadata": {},
   "outputs": [],
   "source": [
    "def minus_14(x):\n",
    "    current_day = x.date().day\n",
    "    new_day = current_day - 14\n",
    "    new_date = x.replace(day=new_day)\n",
    "    return new_date"
   ]
  },
  {
   "cell_type": "code",
   "execution_count": 236,
   "metadata": {},
   "outputs": [],
   "source": [
    "sept['date'] = sept.date.apply(minus_14)\n",
    "sept.drop(columns='new_date', inplace=True)\n",
    "sept = sept.iloc[:-1, :] # car nous avions le minuit du 10 septembre, donc une ligne en trop"
   ]
  },
  {
   "cell_type": "code",
   "execution_count": 252,
   "metadata": {},
   "outputs": [],
   "source": [
    "trot_day_rw = pd.concat([trot_day_rw, sept])\n",
    "trot_day = trot_day_rw.set_index('date')\n",
    "trot_day.sort_index(inplace=True)"
   ]
  },
  {
   "cell_type": "code",
   "execution_count": 274,
   "metadata": {},
   "outputs": [
    {
     "ename": "KeyError",
     "evalue": "\"None of ['date'] are in the columns\"",
     "output_type": "error",
     "traceback": [
      "\u001b[1;31m---------------------------------------------------------------------------\u001b[0m",
      "\u001b[1;31mKeyError\u001b[0m                                  Traceback (most recent call last)",
      "\u001b[1;32m~\\AppData\\Local\\Temp/ipykernel_16692/455233512.py\u001b[0m in \u001b[0;36m<module>\u001b[1;34m\u001b[0m\n\u001b[1;32m----> 1\u001b[1;33m \u001b[0mnew_df\u001b[0m\u001b[1;33m.\u001b[0m\u001b[0mset_index\u001b[0m\u001b[1;33m(\u001b[0m\u001b[1;34m'date'\u001b[0m\u001b[1;33m,\u001b[0m \u001b[0minplace\u001b[0m\u001b[1;33m=\u001b[0m\u001b[1;32mTrue\u001b[0m\u001b[1;33m)\u001b[0m\u001b[1;33m\u001b[0m\u001b[1;33m\u001b[0m\u001b[0m\n\u001b[0m\u001b[0;32m      2\u001b[0m \u001b[0mnew_df\u001b[0m\u001b[1;33m.\u001b[0m\u001b[0msort_index\u001b[0m\u001b[1;33m(\u001b[0m\u001b[0minplace\u001b[0m\u001b[1;33m=\u001b[0m\u001b[1;32mTrue\u001b[0m\u001b[1;33m)\u001b[0m\u001b[1;33m\u001b[0m\u001b[1;33m\u001b[0m\u001b[0m\n",
      "\u001b[1;32m~\\anaconda3\\envs\\bikes-ramp\\lib\\site-packages\\pandas\\util\\_decorators.py\u001b[0m in \u001b[0;36mwrapper\u001b[1;34m(*args, **kwargs)\u001b[0m\n\u001b[0;32m    309\u001b[0m                     \u001b[0mstacklevel\u001b[0m\u001b[1;33m=\u001b[0m\u001b[0mstacklevel\u001b[0m\u001b[1;33m,\u001b[0m\u001b[1;33m\u001b[0m\u001b[1;33m\u001b[0m\u001b[0m\n\u001b[0;32m    310\u001b[0m                 )\n\u001b[1;32m--> 311\u001b[1;33m             \u001b[1;32mreturn\u001b[0m \u001b[0mfunc\u001b[0m\u001b[1;33m(\u001b[0m\u001b[1;33m*\u001b[0m\u001b[0margs\u001b[0m\u001b[1;33m,\u001b[0m \u001b[1;33m**\u001b[0m\u001b[0mkwargs\u001b[0m\u001b[1;33m)\u001b[0m\u001b[1;33m\u001b[0m\u001b[1;33m\u001b[0m\u001b[0m\n\u001b[0m\u001b[0;32m    312\u001b[0m \u001b[1;33m\u001b[0m\u001b[0m\n\u001b[0;32m    313\u001b[0m         \u001b[1;32mreturn\u001b[0m \u001b[0mwrapper\u001b[0m\u001b[1;33m\u001b[0m\u001b[1;33m\u001b[0m\u001b[0m\n",
      "\u001b[1;32m~\\anaconda3\\envs\\bikes-ramp\\lib\\site-packages\\pandas\\core\\frame.py\u001b[0m in \u001b[0;36mset_index\u001b[1;34m(self, keys, drop, append, inplace, verify_integrity)\u001b[0m\n\u001b[0;32m   5449\u001b[0m \u001b[1;33m\u001b[0m\u001b[0m\n\u001b[0;32m   5450\u001b[0m         \u001b[1;32mif\u001b[0m \u001b[0mmissing\u001b[0m\u001b[1;33m:\u001b[0m\u001b[1;33m\u001b[0m\u001b[1;33m\u001b[0m\u001b[0m\n\u001b[1;32m-> 5451\u001b[1;33m             \u001b[1;32mraise\u001b[0m \u001b[0mKeyError\u001b[0m\u001b[1;33m(\u001b[0m\u001b[1;34mf\"None of {missing} are in the columns\"\u001b[0m\u001b[1;33m)\u001b[0m\u001b[1;33m\u001b[0m\u001b[1;33m\u001b[0m\u001b[0m\n\u001b[0m\u001b[0;32m   5452\u001b[0m \u001b[1;33m\u001b[0m\u001b[0m\n\u001b[0;32m   5453\u001b[0m         \u001b[1;32mif\u001b[0m \u001b[0minplace\u001b[0m\u001b[1;33m:\u001b[0m\u001b[1;33m\u001b[0m\u001b[1;33m\u001b[0m\u001b[0m\n",
      "\u001b[1;31mKeyError\u001b[0m: \"None of ['date'] are in the columns\""
     ]
    }
   ],
   "source": [
    "new_df.set_index('date', inplace=True)\n",
    "new_df.sort_index(inplace=True)"
   ]
  },
  {
   "cell_type": "code",
   "execution_count": 275,
   "metadata": {},
   "outputs": [],
   "source": [
    "new_df_trot = pd.merge_asof(new_df, trot_day, left_index=True, right_index=True)\n",
    "new_df_trot"
   ]
  },
  {
   "cell_type": "code",
   "execution_count": 277,
   "metadata": {},
   "outputs": [],
   "source": [
    "new_df_trot.to_csv('external_data_covid_trot.csv')"
   ]
  }
 ],
 "metadata": {
  "interpreter": {
   "hash": "1a487b291ff8c0d54379bc0072e6f0f6494cb31f2c49ae9cb9040e8d9fbe5a43"
  },
  "kernelspec": {
   "display_name": "Python 3.8.8 64-bit ('sandbox': conda)",
   "language": "python",
   "name": "python3"
  },
  "language_info": {
   "codemirror_mode": {
    "name": "ipython",
    "version": 3
   },
   "file_extension": ".py",
   "mimetype": "text/x-python",
   "name": "python",
   "nbconvert_exporter": "python",
   "pygments_lexer": "ipython3",
   "version": "3.9.7"
  },
  "orig_nbformat": 4
 },
 "nbformat": 4,
 "nbformat_minor": 2
}
